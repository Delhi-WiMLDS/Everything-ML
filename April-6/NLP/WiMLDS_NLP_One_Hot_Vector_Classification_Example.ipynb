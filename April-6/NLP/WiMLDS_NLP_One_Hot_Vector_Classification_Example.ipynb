{
  "nbformat": 4,
  "nbformat_minor": 0,
  "metadata": {
    "colab": {
      "name": "WiMLDS_NLP_One_Hot_Vector_Classification_Example.ipynb",
      "version": "0.3.2",
      "provenance": []
    },
    "kernelspec": {
      "name": "python3",
      "display_name": "Python 3"
    }
  },
  "cells": [
    {
      "metadata": {
        "id": "226-k_DbuYs6",
        "colab_type": "code",
        "outputId": "0437a148-a322-476d-ff43-f858ff16a771",
        "colab": {
          "base_uri": "https://localhost:8080/",
          "height": 51
        }
      },
      "cell_type": "code",
      "source": [
        "from sklearn.datasets import fetch_20newsgroups\n",
        "from sklearn.feature_extraction.text import CountVectorizer\n",
        "\n",
        "from sklearn.naive_bayes import MultinomialNB\n",
        "from sklearn import metrics\n",
        "\n",
        "# Create our vectorizer\n",
        "vectorizer = CountVectorizer()\n",
        "\n",
        "# All data\n",
        "newsgroups_train = fetch_20newsgroups(subset='train',\n",
        "                                      remove=('headers', 'footers', 'quotes'))\n",
        "newsgroups_test = fetch_20newsgroups(subset='test',\n",
        "                                     remove=('headers', 'footers', 'quotes'))\n",
        "\n",
        "# Get the training vectors\n",
        "vectors = vectorizer.fit_transform(newsgroups_train.data)\n",
        "\n",
        "# Build the classifier\n",
        "clf = MultinomialNB(alpha=.01)\n",
        "\n",
        "#  Train the classifier\n",
        "clf.fit(vectors, newsgroups_train.target)\n",
        "\n",
        "# Get the test vectors\n",
        "vectors_test = vectorizer.transform(newsgroups_test.data)\n",
        "\n",
        "# Predict and score the vectors\n",
        "pred = clf.predict(vectors_test)\n",
        "acc_score = metrics.accuracy_score(newsgroups_test.target, pred)\n",
        "f1_score = metrics.f1_score(newsgroups_test.target, pred, average='macro')\n",
        "\n",
        "print('Total accuracy classification score: {}'.format(acc_score))\n",
        "print('Total F1 classification score: {}'.format(f1_score))"
      ],
      "execution_count": 0,
      "outputs": [
        {
          "output_type": "stream",
          "text": [
            "Total accuracy classification score: 0.6460435475305364\n",
            "Total F1 classification score: 0.6203806145034193\n"
          ],
          "name": "stdout"
        }
      ]
    }
  ]
}